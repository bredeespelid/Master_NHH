{
 "cells": [
  {
   "cell_type": "markdown",
   "metadata": {},
   "source": [
    "# Working with Jupyter notebooks\n",
    "\n",
    "- Jupyter notebooks allow us to combine code (e.g., Python), formatted text (markdown), $\\LaTeX$ formulas and graphs in a single document.\n",
    "- Jupyter notebooks are organized in cells. Each input cell can be either code or markdown.\n",
    "- You can work with cells either using the buttons in the Visual Studio Code user interface, or by using keyboard shortcuts.\n",
    "- The Jupyter notebook editor is _modal_, i.e., it has two modes of operation:\n",
    "    1.  _Command mode_ operates on whole cells, e.g., adding, deleting, or copying cells.\n",
    "    2.  _Edit mode_ is invoked when you want to alter the contents of a single cell.\n",
    "\n",
    "  To enter _edit mode_, select a cell and press <kbd>Enter</kbd>. To switch to \n",
    "  _command mode_, press <kbd>Esc</kbd> while editing a cell."
   ]
  },
  {
   "cell_type": "markdown",
   "metadata": {
    "vscode": {
     "languageId": "plaintext"
    }
   },
   "source": [
    "## Inserting cells\n",
    "\n",
    "- Press <kbd>a</kbd> to insert a new cell _above_ the current cell.\n",
    "- Press <kbd>b</kbd> to insert a new cell _below_ the current cell.\n",
    "\n",
    "The inserted cell can be a code or a markdown cell, depending on the context.\n",
    "\n",
    "- Press <kbd>m</kbd> to change the cell type to _markdown_ (text).\n",
    "- Press <kbd>y</kbd> to change the call type to _code_.\n",
    "\n",
    "Alternatively, use the buttons <kbd>+ Code</kbd> and <kbd>+ Markdown</kbd> to insert a new code or markdown cell.\n",
    "\n"
   ]
  },
  {
   "cell_type": "markdown",
   "metadata": {},
   "source": [
    "## Copying, pasting and deleting cells\n",
    "\n",
    "- Press <kbd>c</kbd> to copy a cell.\n",
    "- Press <kbd>x</kbd> to cut a cell.\n",
    "- Press <kbd>v</kbd> to paste a cell.\n",
    "- Press <kbd>d</kbd><kbd>d</kbd> to delete a cell. "
   ]
  },
  {
   "cell_type": "markdown",
   "metadata": {},
   "source": [
    "## Editing & executing cell contents\n",
    "\n",
    "- Select a cell and press <kbd>Enter</kbd> to switch to _edit mode_ (or double click the cell).\n",
    "- Press <kbd>Esc</kbd> to leave edit model and switch to _command mode_.\n",
    "- Press <kbd>Ctrl</kbd> + <kbd>Enter</kbd> to execute a code cell.\n",
    "- Press <kbd>Shift</kbd> + <kbd>Enter</kbd> to execute a cell and advance to the next cell (or insert a new cell if at the end of the notebook)."
   ]
  },
  {
   "cell_type": "markdown",
   "metadata": {},
   "source": [
    "## Commands affecting the whole notebook\n",
    "\n",
    "The Visual Studio Code tool bar at the top of the notebook contains several commands that affect the whole notebook.\n",
    "\n",
    "- Use <kbd>Select Kernel</kbd> to specify which Python environment should be used to run the notebook.\n",
    "- Use <kbd>Restart</kbd> to restart the Jupyter kernel. This will clear all variables and results.\n",
    "- Use <kbd>Run All</kbd> to execute all cells from top to bottom.\n",
    "- Use <kbd>Jupyter Variables</kbd> to list all currently defined Python variables."
   ]
  },
  {
   "cell_type": "markdown",
   "metadata": {},
   "source": [
    "## Working with markdown\n",
    "\n",
    "Markdown (text) cells allow you to use simple formatting instructions to structure your text.\n",
    "\n",
    "- Create section headings with leading hashes, e.g., `#` for heading level 1, `##` for heading level 2, etc.\n",
    "- Surround text with `*` to render it in _cursive_ font.\n",
    "- Surround text with `**` to render it in **bold** font.\n",
    "- Surround formulas with `$` to render them using $\\LaTeX$.\n",
    "\n",
    "See the [Markdown Guide](https://www.markdownguide.org/basic-syntax/) for a comprehensive list of formatting instructions."
   ]
  }
 ],
 "metadata": {
  "kernelspec": {
   "display_name": "FIE463",
   "language": "python",
   "name": "python3"
  },
  "language_info": {
   "name": "python",
   "version": "3.12.8"
  }
 },
 "nbformat": 4,
 "nbformat_minor": 2
}
