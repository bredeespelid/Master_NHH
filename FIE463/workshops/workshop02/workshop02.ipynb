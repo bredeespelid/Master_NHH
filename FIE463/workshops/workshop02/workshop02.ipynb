{
 "cells": [
  {
   "cell_type": "markdown",
   "metadata": {},
   "source": [
    "# CRRA utility function\n",
    "\n",
    "The CRRA utility function (constant relative risk aversion) is the most widely used utility function in macroeconomics and finance. It is defined as \n",
    "$$\n",
    "u(c) = \\begin{cases}\n",
    "    \\frac{c^{1-\\gamma}}{1-\\gamma} & \\text{if } \\gamma \\neq 1 \\\\\n",
    "    \\ln(c) & \\text{else}\n",
    "\\end{cases}\n",
    "$$\n",
    "where $c$ is consumption and $\\gamma$ is the (constant) risk-aversion parameter.\n",
    "\n",
    "1. You want to evaluate the utility at $c = 2$ for various levels of $\\gamma$. \n",
    "    1. Define a list `gammas` with the values 0.5, 1, and 2.\n",
    "    2. Loop over all elements in `gammas` and evaluate the corresponding utility. Use an `if` statement to correctly handle the two cases from the above formula.\n",
    "\n",
    "        *Hint:* Import the `log` function from the `math` module to evaluate the natural logarithm.\n",
    "\n",
    "        *Hint:* To perform exponentiation, use the `**` operator (see the [list of operator](https://www.w3schools.com/python/python_operators.asp)).\n",
    "    3. Store the utility in a dictionary, using the values of $\\gamma$ as keys, and print the result.\n",
    "2. Can you solve the exercise using a single list comprehension to create the result dictionary?\n"
   ]
  },
  {
   "cell_type": "markdown",
   "metadata": {},
   "source": [
    "# Maximizing quadratic utility"
   ]
  },
  {
   "cell_type": "markdown",
   "metadata": {},
   "source": [
    "Consider the following quadratic utility function\n",
    "$$\n",
    "u(c) = - A (c - B)^2 + C\n",
    "$$\n",
    "\n",
    "where $A > 0$, $B > 0$ and $C$ are parameters, and $c$ is the consumption level.\n",
    "\n",
    "In this exercise, you are asked to locate the consumption level which delivers the maximum utility.\n",
    "\n",
    "1. Find the maximum using a loop:\n",
    "    1. Create an array `cons` of 51 candidate consumption levels which are uniformly spaced on the interval $[0, 4]$.\n",
    "    2. Use the parameters $A = 1$, $B=2$, and $C=10$.\n",
    "    3. Loop through all candidate consumption levels, and compute the associated utility. If this utility is larger than \n",
    "      the previous maximum value `u_max`, update `u_max` and store the associated consumption level `cons_max`.\n",
    "    4. Print `u_max` and `cons_max` after the loop terminates.\n",
    "2. Repeat the exercise, but instead use vectorized operations from NumPy:\n",
    "    1. Compute and store the utility levels for *all* elements in `cons` at once (simply apply the formulate to the whole array).\n",
    "    2. Locate the index of the maximum utility level using \n",
    "       [`np.argmax()`](https://numpy.org/doc/stable/reference/generated/numpy.argmax.html).\n",
    "    3. Use the index returned by `np.argmax()` to retrieve the maximum utility and the \n",
    "        corresponding consumption level, and print the results.\n",
    "\n"
   ]
  },
  {
   "cell_type": "markdown",
   "metadata": {},
   "source": [
    "# Summing finite values\n",
    "\n",
    "In this exercise, we explore how to ignore non-finite array elements when computing sums,\n",
    "i.e., elements which are either NaN (\"Not a number\", represented by `np.nan`), $-\\infty$ (`-np.inf`) or $\\infty$ (`np.inf`).\n",
    "Such situations arise if data for some observations is missing and is then frequently encoded as `np.nan`.\n",
    "\n",
    "1. Create an array of 1001 elements which are uniformly spaced on the interval $[0, 10]$. \n",
    "   Set every second element to the value `np.nan`.\n",
    "\n",
    "   *Hint:* You can select and overwrite every second element using `start:stop:step`\n",
    "   array indexing.\n",
    "\n",
    "   Using [`np.sum()`](https://numpy.org/doc/stable/reference/generated/numpy.sum.html),\n",
    "   verify that the sum of this array is NaN.\n",
    "\n",
    "2. Write a loop that computes the sum of finite elements in this array. Check that an array element \n",
    "    is finite using the function \n",
    "    [`np.isfinite()`](https://numpy.org/doc/stable/reference/generated/numpy.isfinite.html)\n",
    "    and ignore non-finite elements.\n",
    "\n",
    "    Print the resulting sum of finite elements.\n",
    "\n",
    "3. Since this use case is quite common, NumPy implements the function\n",
    "    [`np.nansum()`](https://numpy.org/doc/stable/reference/generated/numpy.nansum.html)\n",
    "    which performs exactly this task for you. \n",
    "\n",
    "    Verify that `np.nansum()` gives the same result and benchmark it against\n",
    "    your loop-based implementation.\n",
    "\n",
    "    *Hint:* You'll need to use the `%%timeit` \n",
    "    [cell magic](https://ipython.readthedocs.io/en/stable/interactive/magics.html#magic-timeit)\n",
    "    (with two %)\n",
    "    if you want to benchmark all code contained in a cell."
   ]
  }
 ],
 "metadata": {
  "kernelspec": {
   "display_name": "FIE463",
   "language": "python",
   "name": "python3"
  },
  "language_info": {
   "codemirror_mode": {
    "name": "ipython",
    "version": 3
   },
   "file_extension": ".py",
   "mimetype": "text/x-python",
   "name": "python",
   "nbconvert_exporter": "python",
   "pygments_lexer": "ipython3",
   "version": "3.12.8"
  }
 },
 "nbformat": 4,
 "nbformat_minor": 2
}
